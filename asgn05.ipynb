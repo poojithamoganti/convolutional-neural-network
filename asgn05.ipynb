{
 "cells": [
  {
   "cell_type": "code",
   "execution_count": 2,
   "id": "36f035fd",
   "metadata": {},
   "outputs": [],
   "source": [
    "import os\n",
    "import numpy as np \n",
    "import PIL\n",
    "import io\n"
   ]
  },
  {
   "cell_type": "code",
   "execution_count": 3,
   "id": "af56c537",
   "metadata": {},
   "outputs": [],
   "source": [
    "path = \"C:/Users/pooch/OneDrive/Desktop/deeplearning/dataset/archive/Animal Image Dataset\""
   ]
  },
  {
   "cell_type": "code",
   "execution_count": 4,
   "id": "417fd321",
   "metadata": {},
   "outputs": [],
   "source": [
    "import tensorflow as tf\n",
    "from tensorflow.keras.preprocessing.image import ImageDataGenerator\n",
    "\n",
    "# Training flow\n",
    "train_datagen = ImageDataGenerator(rescale = 1.0 /255 ,\n",
    "                                  validation_split= 0.2)\n",
    "\n",
    "\n"
   ]
  },
  {
   "cell_type": "code",
   "execution_count": 5,
   "id": "f4aafad4",
   "metadata": {},
   "outputs": [
    {
     "name": "stdout",
     "output_type": "stream",
     "text": [
      "Found 13746 images belonging to 12 classes.\n"
     ]
    }
   ],
   "source": [
    "train_generator = train_datagen.flow_from_directory(\n",
    "               path,\n",
    "               target_size =(256,256),\n",
    "               batch_size = 110,\n",
    "               class_mode = 'categorical',\n",
    "               subset = 'training' )\n"
   ]
  },
  {
   "cell_type": "code",
   "execution_count": 6,
   "id": "67e13cef",
   "metadata": {},
   "outputs": [],
   "source": [
    "validation_datagen = ImageDataGenerator(rescale = 1.0 /255,\n",
    "                                       validation_split= 0.2)"
   ]
  },
  {
   "cell_type": "code",
   "execution_count": 7,
   "id": "1c85f5bc",
   "metadata": {},
   "outputs": [
    {
     "name": "stdout",
     "output_type": "stream",
     "text": [
      "Found 3432 images belonging to 12 classes.\n"
     ]
    }
   ],
   "source": [
    "# Validation flow\n",
    "\n",
    "validation_generator = validation_datagen.flow_from_directory(\n",
    "               path,\n",
    "               target_size =(256,256),\n",
    "               batch_size = 60,\n",
    "               class_mode = 'categorical',\n",
    "               subset = 'validation' )"
   ]
  },
  {
   "cell_type": "code",
   "execution_count": 8,
   "id": "d67d914c",
   "metadata": {},
   "outputs": [
    {
     "name": "stdout",
     "output_type": "stream",
     "text": [
      "Model: \"sequential\"\n",
      "_________________________________________________________________\n",
      "Layer (type)                 Output Shape              Param #   \n",
      "=================================================================\n",
      "conv2d (Conv2D)              (None, 254, 254, 16)      448       \n",
      "_________________________________________________________________\n",
      "max_pooling2d (MaxPooling2D) (None, 127, 127, 16)      0         \n",
      "_________________________________________________________________\n",
      "conv2d_1 (Conv2D)            (None, 125, 125, 32)      4640      \n",
      "_________________________________________________________________\n",
      "max_pooling2d_1 (MaxPooling2 (None, 62, 62, 32)        0         \n",
      "_________________________________________________________________\n",
      "conv2d_2 (Conv2D)            (None, 60, 60, 64)        18496     \n",
      "_________________________________________________________________\n",
      "max_pooling2d_2 (MaxPooling2 (None, 30, 30, 64)        0         \n",
      "_________________________________________________________________\n",
      "conv2d_3 (Conv2D)            (None, 28, 28, 128)       73856     \n",
      "_________________________________________________________________\n",
      "max_pooling2d_3 (MaxPooling2 (None, 14, 14, 128)       0         \n",
      "_________________________________________________________________\n",
      "conv2d_4 (Conv2D)            (None, 12, 12, 256)       295168    \n",
      "_________________________________________________________________\n",
      "dropout (Dropout)            (None, 12, 12, 256)       0         \n",
      "_________________________________________________________________\n",
      "conv2d_5 (Conv2D)            (None, 10, 10, 512)       1180160   \n",
      "_________________________________________________________________\n",
      "max_pooling2d_4 (MaxPooling2 (None, 5, 5, 512)         0         \n",
      "_________________________________________________________________\n",
      "flatten (Flatten)            (None, 12800)             0         \n",
      "_________________________________________________________________\n",
      "dense (Dense)                (None, 256)               3277056   \n",
      "_________________________________________________________________\n",
      "dense_1 (Dense)              (None, 128)               32896     \n",
      "_________________________________________________________________\n",
      "dense_2 (Dense)              (None, 64)                8256      \n",
      "_________________________________________________________________\n",
      "dense_3 (Dense)              (None, 12)                780       \n",
      "=================================================================\n",
      "Total params: 4,891,756\n",
      "Trainable params: 4,891,756\n",
      "Non-trainable params: 0\n",
      "_________________________________________________________________\n"
     ]
    }
   ],
   "source": [
    "\n",
    "# Create an embedding layer.\n",
    "embedding_dim = 16\n",
    "embedding = tf.keras.layers.Embedding(embedding_dim,output_dim = 3)\n",
    "\n",
    "model = tf.keras.models.Sequential([\n",
    "  #embedding,                                  \n",
    "  tf.keras.layers.Conv2D(16 ,(3,3) , activation = 'relu' , input_shape =(256 ,256 , 3)),\n",
    "  tf.keras.layers.MaxPooling2D(2,2),\n",
    "  tf.keras.layers.Conv2D(32 ,(3,3) , activation = 'relu'),\n",
    "  tf.keras.layers.MaxPooling2D(2,2),\n",
    "  tf.keras.layers.Conv2D(64 ,(3,3) , activation = 'relu' ),\n",
    "  tf.keras.layers.MaxPooling2D(2,2),\n",
    "  tf.keras.layers.Conv2D(128 ,(3,3) , activation = 'relu' ),\n",
    "  tf.keras.layers.MaxPooling2D(2,2),\n",
    "  tf.keras.layers.Conv2D(256 ,(3,3) , activation = 'relu' ),\n",
    "  tf.keras.layers.Dropout(.2),\n",
    "  tf.keras.layers.Conv2D(512 ,(3,3) , activation = 'relu' ),\n",
    "  tf.keras.layers.MaxPooling2D(2,2),\n",
    "    \n",
    "  tf.keras.layers.Flatten(),\n",
    "  tf.keras.layers.Dense(256, activation = 'relu'),\n",
    "    tf.keras.layers.Dense(128, activation = 'relu'),\n",
    "    tf.keras.layers.Dense(64, activation = 'relu'),\n",
    "  tf.keras.layers.Dense(12, activation='softmax') ])\n",
    "\n",
    "# Displaying Total summary of the model\n",
    "model.summary()"
   ]
  },
  {
   "cell_type": "code",
   "execution_count": 9,
   "id": "31349374",
   "metadata": {
    "scrolled": true
   },
   "outputs": [],
   "source": [
    "from tensorflow.keras.optimizers import Adam\n",
    "model.compile(loss = 'categorical_crossentropy' , optimizer= Adam(learning_rate=0.001) , metrics=['acc'])"
   ]
  },
  {
   "cell_type": "code",
   "execution_count": 10,
   "id": "87aa2b34",
   "metadata": {},
   "outputs": [
    {
     "name": "stdout",
     "output_type": "stream",
     "text": [
      "Epoch 1/15\n",
      "125/125 [==============================] - 157s 1s/step - loss: 2.3079 - acc: 0.1732 - val_loss: 2.2551 - val_acc: 0.2156\n",
      "Epoch 2/15\n",
      "125/125 [==============================] - 126s 1s/step - loss: 2.0430 - acc: 0.2750 - val_loss: 2.0161 - val_acc: 0.2905\n",
      "Epoch 3/15\n",
      "125/125 [==============================] - 126s 1s/step - loss: 1.7450 - acc: 0.3907 - val_loss: 1.8203 - val_acc: 0.3846\n",
      "Epoch 4/15\n",
      "125/125 [==============================] - 125s 1s/step - loss: 1.5111 - acc: 0.4782 - val_loss: 1.6020 - val_acc: 0.4586\n",
      "Epoch 5/15\n",
      "125/125 [==============================] - 120s 967ms/step - loss: 1.3405 - acc: 0.5394 - val_loss: 1.4872 - val_acc: 0.4988\n",
      "Epoch 6/15\n",
      "125/125 [==============================] - 120s 957ms/step - loss: 1.1814 - acc: 0.5962 - val_loss: 1.3917 - val_acc: 0.5353\n",
      "Epoch 7/15\n",
      "125/125 [==============================] - 121s 970ms/step - loss: 1.0554 - acc: 0.6419 - val_loss: 1.3494 - val_acc: 0.5606\n",
      "Epoch 8/15\n",
      "125/125 [==============================] - 117s 938ms/step - loss: 0.9077 - acc: 0.6881 - val_loss: 1.2273 - val_acc: 0.6005\n",
      "Epoch 9/15\n",
      "125/125 [==============================] - 116s 929ms/step - loss: 0.7952 - acc: 0.7233 - val_loss: 1.2648 - val_acc: 0.5857\n",
      "Epoch 10/15\n",
      "125/125 [==============================] - 116s 931ms/step - loss: 0.6529 - acc: 0.7754 - val_loss: 1.4011 - val_acc: 0.5763\n",
      "Epoch 11/15\n",
      "125/125 [==============================] - 116s 932ms/step - loss: 0.5687 - acc: 0.8049 - val_loss: 1.2187 - val_acc: 0.6294\n",
      "Epoch 12/15\n",
      "125/125 [==============================] - 116s 924ms/step - loss: 0.4405 - acc: 0.8472 - val_loss: 1.3581 - val_acc: 0.6113\n",
      "Epoch 13/15\n",
      "125/125 [==============================] - 116s 932ms/step - loss: 0.3545 - acc: 0.8773 - val_loss: 1.4840 - val_acc: 0.6224\n",
      "Epoch 14/15\n",
      "125/125 [==============================] - 118s 948ms/step - loss: 0.2852 - acc: 0.9013 - val_loss: 1.7370 - val_acc: 0.6171\n",
      "Epoch 15/15\n",
      "125/125 [==============================] - 116s 927ms/step - loss: 0.2208 - acc: 0.9225 - val_loss: 1.7346 - val_acc: 0.6177\n"
     ]
    }
   ],
   "source": [
    "\n",
    "history = model.fit(\n",
    "    train_generator,\n",
    "    steps_per_epoch = 125,\n",
    "    epochs = 15,\n",
    "    validation_data = validation_generator)"
   ]
  },
  {
   "cell_type": "code",
   "execution_count": 11,
   "id": "5b2a544d",
   "metadata": {},
   "outputs": [
    {
     "data": {
      "text/plain": [
       "Text(0.5, 1.0, 'Training and validation loss')"
      ]
     },
     "execution_count": 11,
     "metadata": {},
     "output_type": "execute_result"
    },
    {
     "data": {
      "image/png": "[encoded data removed]",
      "text/plain": [
       "<Figure size 432x288 with 1 Axes>"
      ]
     },
     "metadata": {
      "needs_background": "light"
     },
     "output_type": "display_data"
    },
    {
     "data": {
      "image/png": "[encoded data removed]",
      "text/plain": [
       "<Figure size 432x288 with 1 Axes>"
      ]
     },
     "metadata": {
      "needs_background": "light"
     },
     "output_type": "display_data"
    }
   ],
   "source": [
    "import matplotlib.pyplot as plt\n",
    "\n",
    "acc = history.history[ 'acc' ]\n",
    "val_acc = history.history[ 'val_acc' ]\n",
    "loss = history.history[ 'loss' ]\n",
    "val_loss = history.history['val_loss' ]\n",
    "epochs = range(len(acc)) # Get number of epochs\n",
    "\n",
    "plt.plot ( epochs, acc )\n",
    "plt.plot ( epochs, val_acc )\n",
    "plt.title ('Training and validation accuracy')\n",
    "plt.figure()\n",
    "\n",
    "plt.plot ( epochs, loss )\n",
    "plt.plot ( epochs, val_loss )\n",
    "plt.title ('Training and validation loss' )\n"
   ]
  },
  {
   "cell_type": "code",
   "execution_count": 12,
   "id": "d697d173",
   "metadata": {},
   "outputs": [],
   "source": [
    "import tensorflow as tf\n",
    "model_reduced = tf.keras.Sequential()\n",
    "\n",
    "for layer in model.layers[:-2]:\n",
    "  model_reduced.add(layer)"
   ]
  },
  {
   "cell_type": "code",
   "execution_count": 13,
   "id": "9b5394ea",
   "metadata": {},
   "outputs": [
    {
     "name": "stdout",
     "output_type": "stream",
     "text": [
      "Extracting Features of dataset-butterfly\n",
      "\n",
      "Extracting Features of dataset-cats\n",
      "\n",
      "Extracting Features of dataset-cow\n",
      "\n",
      "Extracting Features of dataset-dogs\n",
      "\n",
      "Extracting Features of dataset-elephant\n",
      "\n",
      "Extracting Features of dataset-hen\n",
      "\n",
      "Extracting Features of dataset-horse\n",
      "\n",
      "Extracting Features of dataset-monkey\n",
      "\n",
      "Extracting Features of dataset-panda\n",
      "\n",
      "Extracting Features of dataset-sheep\n",
      "\n",
      "Extracting Features of dataset-spider\n",
      "\n",
      "Extracting Features of dataset-squirrel\n",
      "\n"
     ]
    }
   ],
   "source": [
    "import cv2\n",
    "import os\n",
    "import argparse\n",
    "import pickle\n",
    "from keras.preprocessing import image\n",
    "import numpy as np\n",
    "from numpy import asarray\n",
    "from keras.preprocessing.image import img_to_array\n",
    "\n",
    "data_path = 'C:/Users/pooch/OneDrive/Desktop/deeplearning/dataset/archive/Animal Image Dataset'\n",
    "data_dir_list = os.listdir(data_path)\n",
    "image_features_list=[]\n",
    "image_name_feature =[]\n",
    "def get_image_features(image_file_name):\n",
    "  \n",
    "  im=image.load_img(image_file_name,target_size=(256,256))\n",
    "  im=image.img_to_array(im)\n",
    "  im=np.expand_dims(im,axis=0)\n",
    "  image_feature=model_reduced.predict(im)[0]\n",
    "  image_features_arr=np.asarray(image_feature)\n",
    "\n",
    "  return image_features_arr\n",
    "\n",
    "for dataset in data_dir_list:\n",
    "    img_list=os.listdir(data_path+'/'+ dataset)\n",
    "    print ('Extracting Features of dataset-'+'{}\\n'.format(dataset))\n",
    "    for img in img_list:\n",
    "        image_path=data_path + '/'+ dataset + '/'+ img\n",
    "        image_features=get_image_features(image_path)\n",
    "        \n",
    "        image_features_list.append(image_features)\n",
    "        image_name_add=[img,image_features]\n",
    "        image_name_feature.append(image_name_add)\n",
    "image_features_arr=np.asarray(image_features_list)\n",
    "image_features_arr = np.rollaxis(image_features_arr,1,0)\n",
    "image_features_arr=image_features_arr.T\n",
    "#print(image_features_arr.shape)\n",
    "np.savetxt('C:/Users/pooch/OneDrive/Desktop/deeplearning/dataset/archive/Animal Image Dataset/feature_vectors_class_samples.txt',image_features_arr)\n",
    "\n",
    "pickle.dump(image_features_arr, open('C:/Users/pooch/OneDrive/Desktop/deeplearning/dataset/archive/Animal Image Dataset/feature_vectors_class_samples.pkl', 'wb'))"
   ]
  },
  {
   "cell_type": "code",
   "execution_count": 14,
   "id": "ada1f818",
   "metadata": {
    "scrolled": false
   },
   "outputs": [
    {
     "name": "stderr",
     "output_type": "stream",
     "text": [
      "C:\\Users\\pooch\\anaconda3\\envs\\tf\\lib\\site-packages\\tqdm\\auto.py:22: TqdmWarning: IProgress not found. Please update jupyter and ipywidgets. See https://ipywidgets.readthedocs.io/en/stable/user_install.html\n",
      "  from .autonotebook import tqdm as notebook_tqdm\n"
     ]
    },
    {
     "name": "stdout",
     "output_type": "stream",
     "text": [
      "Loaded the images of dataset-butterfly\n",
      "\n",
      "Loaded the images of dataset-cats\n",
      "\n",
      "Loaded the images of dataset-cow\n",
      "\n",
      "Loaded the images of dataset-dogs\n",
      "\n",
      "Loaded the images of dataset-elephant\n",
      "\n"
     ]
    },
    {
     "ename": "NotADirectoryError",
     "evalue": "[WinError 267] The directory name is invalid: 'C:/Users/pooch/OneDrive/Desktop/deeplearning/dataset/archive/Animal Image Dataset/feature_vectors_class_samples.pkl'",
     "output_type": "error",
     "traceback": [
      "\u001b[1;31m---------------------------------------------------------------------------\u001b[0m",
      "\u001b[1;31mNotADirectoryError\u001b[0m                        Traceback (most recent call last)",
      "\u001b[1;32m~\\AppData\\Local\\Temp/ipykernel_16860/1815404431.py\u001b[0m in \u001b[0;36m<module>\u001b[1;34m\u001b[0m\n\u001b[0;32m     26\u001b[0m \u001b[0mimg_data\u001b[0m\u001b[1;33m=\u001b[0m\u001b[1;33m[\u001b[0m\u001b[1;33m]\u001b[0m\u001b[1;33m\u001b[0m\u001b[1;33m\u001b[0m\u001b[0m\n\u001b[0;32m     27\u001b[0m \u001b[1;32mfor\u001b[0m \u001b[0mdataset\u001b[0m \u001b[1;32min\u001b[0m \u001b[0mos\u001b[0m\u001b[1;33m.\u001b[0m\u001b[0mlistdir\u001b[0m\u001b[1;33m(\u001b[0m\u001b[0mdata_dir_list\u001b[0m\u001b[1;33m)\u001b[0m\u001b[1;33m:\u001b[0m\u001b[1;33m\u001b[0m\u001b[1;33m\u001b[0m\u001b[0m\n\u001b[1;32m---> 28\u001b[1;33m     \u001b[0mimg_list\u001b[0m\u001b[1;33m=\u001b[0m\u001b[0mos\u001b[0m\u001b[1;33m.\u001b[0m\u001b[0mlistdir\u001b[0m\u001b[1;33m(\u001b[0m\u001b[0mdata_dir_list\u001b[0m\u001b[1;33m+\u001b[0m\u001b[1;34m'/'\u001b[0m\u001b[1;33m+\u001b[0m \u001b[0mdataset\u001b[0m\u001b[1;33m)\u001b[0m\u001b[1;33m\u001b[0m\u001b[1;33m\u001b[0m\u001b[0m\n\u001b[0m\u001b[0;32m     29\u001b[0m    \u001b[1;31m# print ('images list',img_list)\u001b[0m\u001b[1;33m\u001b[0m\u001b[1;33m\u001b[0m\u001b[0m\n\u001b[0;32m     30\u001b[0m     \u001b[0mprint\u001b[0m \u001b[1;33m(\u001b[0m\u001b[1;34m'Loaded the images of dataset-'\u001b[0m\u001b[1;33m+\u001b[0m\u001b[1;34m'{}\\n'\u001b[0m\u001b[1;33m.\u001b[0m\u001b[0mformat\u001b[0m\u001b[1;33m(\u001b[0m\u001b[0mdataset\u001b[0m\u001b[1;33m)\u001b[0m\u001b[1;33m)\u001b[0m\u001b[1;33m\u001b[0m\u001b[1;33m\u001b[0m\u001b[0m\n",
      "\u001b[1;31mNotADirectoryError\u001b[0m: [WinError 267] The directory name is invalid: 'C:/Users/pooch/OneDrive/Desktop/deeplearning/dataset/archive/Animal Image Dataset/feature_vectors_class_samples.pkl'"
     ]
    }
   ],
   "source": [
    "\n",
    "import os,cv2\n",
    "import numpy as np\n",
    "import matplotlib.pyplot as plt\n",
    "import pickle\n",
    "import tensorflow as tf\n",
    "# Load the TensorBoard notebook extension\n",
    "try:\n",
    "  # %tensorflow_version only exists in Colab.\n",
    "  %tensorflow_version 2.x\n",
    "except Exception:\n",
    "  pass\n",
    " \n",
    "%load_ext tensorboard\n",
    "import tensorflow_datasets as tfds\n",
    "from tensorboard.plugins import projector\n",
    " \n",
    "\n",
    "tf.compat.v1.disable_eager_execution()\n",
    " \n",
    "LOG_DIR = 'C:/Users/pooch/OneDrive/Desktop/deeplearning/dataset/archive/Animal Image Dataset'\n",
    "#metadata = os.path.join(LOG_DIR, 'metadata2.tsv')\n",
    " \n",
    "#%%\n",
    "data_dir_list = 'C:/Users/pooch/OneDrive/Desktop/deeplearning/dataset/archive/Animal Image Dataset'\n",
    " \n",
    "img_data=[]\n",
    "for dataset in os.listdir(data_dir_list):\n",
    "    img_list=os.listdir(data_dir_list+'/'+ dataset)\n",
    "   # print ('images list',img_list)\n",
    "    print ('Loaded the images of dataset-'+'{}\\n'.format(dataset))\n",
    "    for img in img_list:\n",
    "        input_img=cv2.imread(data_dir_list+'/'+ dataset+'/'+ img )\n",
    "        input_img_resize=cv2.resize(input_img,(224,224))\n",
    "        img_data.append(input_img_resize)\n",
    "    \n",
    "                \n",
    "img_data = np.array(img_data)\n",
    " \n",
    "#%%\n",
    " \n",
    "feature_vectors = np.loadtxt(os.path.join(LOG_DIR,'feature_vectors_class_samples.txt'))\n",
    "print (\"feature_vectors_shape:\",feature_vectors.shape)\n",
    "print (\"num of images:\",feature_vectors.shape[0])\n",
    "print (\"size of individual feature vector:\",feature_vectors.shape[1])\n",
    " \n",
    "num_of_samples=feature_vectors.shape[0]\n",
    "num_of_samples_each_class = 100\n",
    " \n",
    "features = tf.Variable(feature_vectors, name='features')\n",
    " \n",
    "y = np.ones((num_of_samples,),dtype='int64')\n",
    " \n",
    "y[0:99]=0,\n",
    "y[100:199]=1,\n",
    "y[200:299]=2,\n",
    "y[300:399]=3,\n",
    "y[400:499]=4,\n",
    "y[500:599]=5,\n",
    "y[600:699]=6,\n",
    "y[700:799]=7,\n",
    "y[800:899]=8,\n",
    "y[900:999]=9,\n",
    "y[1000:1099]=10,\n",
    "y[1100:1199]=11\n",
    "\n",
    " \n",
    "names = ['butterfly','cats','cow','dogs' ,'elephant','hen','horse','monkey' ,'panda' ,'sheep' ,'spider' ,'squirrel']\n",
    " \n",
    "\n",
    "metadata_file = open(os.path.join(LOG_DIR, 'metadata_2_classes.tsv'), 'w')\n",
    "metadata_file.write('Class\\tName\\n')\n",
    "k=100 # num of samples in each class\n",
    "j=0\n",
    "#for i in range(210):\n",
    "#    metadata_file.write('%06d\\t%s\\n' % (i, names[y[i]]))\n",
    "for i in range(num_of_samples):\n",
    "    c = names[y[i]]\n",
    "    if i%k==0:\n",
    "        j=j+1\n",
    "    metadata_file.write('{}\\t{}\\n'.format(j,c))\n",
    "    #metadata_file.write('%06d\\t%s\\n' % (j, c))\n",
    "metadata_file.close()\n",
    "       \n",
    "    \n",
    "# Taken from: https://github.com/tensorflow/tensorflow/issues/6322\n",
    "def images_to_sprite(data):\n",
    "    if len(data.shape) == 3:\n",
    "        data = np.tile(data[...,np.newaxis], (1,1,1,3))\n",
    "    data = data.astype(np.float32)\n",
    "    min = np.min(data.reshape((data.shape[0], -1)), axis=1)\n",
    "    data = (data.transpose(1,2,3,0) - min).transpose(3,0,1,2)\n",
    "    max = np.max(data.reshape((data.shape[0], -1)), axis=1)\n",
    "    data = (data.transpose(1,2,3,0) / max).transpose(3,0,1,2)\n",
    " \n",
    "    n = int(np.ceil(np.sqrt(data.shape[0])))\n",
    "    padding = ((0, n ** 2 - data.shape[0]), (0, 0),\n",
    "            (0, 0)) + ((0, 0),) * (data.ndim - 3)\n",
    "    data = np.pad(data, padding, mode='constant',\n",
    "            constant_values=0)\n",
    "    # Tile the individual thumbnails into an image.\n",
    "    data = data.reshape((n, n) + data.shape[1:]).transpose((0, 2, 1, 3)\n",
    "            + tuple(range(4, data.ndim + 1)))\n",
    "    data = data.reshape((n * data.shape[1], n * data.shape[3]) + data.shape[4:])\n",
    "    data = (data * 255).astype(np.uint8)\n",
    "    return data\n",
    "#%%\n",
    "sprite = images_to_sprite(img_data)\n",
    "cv2.imwrite(os.path.join(LOG_DIR, 'sprite_2_classes.png'), sprite)\n",
    "\n",
    " \n",
    "#%%\n",
    "with tf.compat.v1.Session() as sess:\n",
    "    saver = tf.compat.v1.train.Saver([features])\n",
    " \n",
    "    sess.run(features.initializer)\n",
    "    saver.save(sess, os.path.join(LOG_DIR, 'images_2_classes.ckpt'))\n",
    "    \n",
    "    config = projector.ProjectorConfig()\n",
    "    # One can add multiple embeddings.\n",
    "    embedding = config.embeddings.add()\n",
    "    embedding.tensor_name = features.name\n",
    "    # Link this tensor to its metadata file (e.g. labels).\n",
    "    embedding.metadata_path = os.path.join(LOG_DIR, 'metadata_2_classes.tsv')\n",
    "    # Comment out if you don't want sprites\n",
    "    embedding.sprite.image_path = os.path.join(LOG_DIR, 'sprite_2_classes.png')\n",
    "    embedding.sprite.single_image_dim.extend([img_data.shape[1], img_data.shape[1]])\n",
    "    # Saves a config file that TensorBoard will read during startup.\n",
    "    projector.visualize_embeddings(tf.compat.v1.summary.FileWriter(LOG_DIR), config)"
   ]
  },
  {
   "cell_type": "code",
   "execution_count": null,
   "id": "a93380f7",
   "metadata": {},
   "outputs": [],
   "source": []
  },
  {
   "cell_type": "code",
   "execution_count": null,
   "id": "730d85d7",
   "metadata": {},
   "outputs": [],
   "source": []
  },
  {
   "cell_type": "code",
   "execution_count": null,
   "id": "9307ecff",
   "metadata": {},
   "outputs": [],
   "source": []
  }
 ],
 "metadata": {
  "kernelspec": {
   "display_name": "Python 3 (ipykernel)",
   "language": "python",
   "name": "python3"
  },
  "language_info": {
   "codemirror_mode": {
    "name": "ipython",
    "version": 3
   },
   "file_extension": ".py",
   "mimetype": "text/x-python",
   "name": "python",
   "nbconvert_exporter": "python",
   "pygments_lexer": "ipython3",
   "version": "3.9.7"
  }
 },
 "nbformat": 4,
 "nbformat_minor": 5
}
